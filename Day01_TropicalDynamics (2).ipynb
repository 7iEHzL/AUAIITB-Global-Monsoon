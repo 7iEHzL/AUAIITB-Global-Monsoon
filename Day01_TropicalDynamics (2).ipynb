{
 "cells": [
  {
   "cell_type": "markdown",
   "id": "43ddae68-223f-46b4-8865-b0d51308c632",
   "metadata": {},
   "source": [
    "**This code is part of Hands-on session Day-1 of Tropical Dynamics and Global Monsoons workshop (17-21/06/2024) at IIT Bombay,India**"
   ]
  },
  {
   "cell_type": "markdown",
   "id": "67b0544d-be21-4068-80f3-b0185b5c0d85",
   "metadata": {},
   "source": [
    "# Installation of libraries\n"
   ]
  },
  {
   "cell_type": "markdown",
   "id": "2624ac9f-ddec-4986-af01-055abb91be08",
   "metadata": {},
   "source": [
    "# Step :1 Import the libraries"
   ]
  },
  {
   "cell_type": "code",
   "execution_count": 15,
   "id": "88918fc1-039c-42ec-a75c-91e77aa7e3ab",
   "metadata": {},
   "outputs": [
    {
     "name": "stdout",
     "output_type": "stream",
     "text": [
      "Requirement already satisfied: xarray in c:\\users\\user\\anaconda3\\lib\\site-packages (2023.6.0)\n",
      "Requirement already satisfied: netCDF4 in c:\\users\\user\\anaconda3\\lib\\site-packages (1.7.0)\n",
      "Requirement already satisfied: numpy>=1.21 in c:\\users\\user\\anaconda3\\lib\\site-packages (from xarray) (1.26.4)\n",
      "Requirement already satisfied: pandas>=1.4 in c:\\users\\user\\anaconda3\\lib\\site-packages (from xarray) (2.1.4)\n",
      "Requirement already satisfied: packaging>=21.3 in c:\\users\\user\\anaconda3\\lib\\site-packages (from xarray) (23.1)\n",
      "Requirement already satisfied: cftime in c:\\users\\user\\anaconda3\\lib\\site-packages (from netCDF4) (1.6.4)\n",
      "Requirement already satisfied: certifi in c:\\users\\user\\anaconda3\\lib\\site-packages (from netCDF4) (2024.2.2)\n",
      "Requirement already satisfied: python-dateutil>=2.8.2 in c:\\users\\user\\anaconda3\\lib\\site-packages (from pandas>=1.4->xarray) (2.8.2)\n",
      "Requirement already satisfied: pytz>=2020.1 in c:\\users\\user\\anaconda3\\lib\\site-packages (from pandas>=1.4->xarray) (2023.3.post1)\n",
      "Requirement already satisfied: tzdata>=2022.1 in c:\\users\\user\\anaconda3\\lib\\site-packages (from pandas>=1.4->xarray) (2023.3)\n",
      "Requirement already satisfied: six>=1.5 in c:\\users\\user\\anaconda3\\lib\\site-packages (from python-dateutil>=2.8.2->pandas>=1.4->xarray) (1.16.0)\n"
     ]
    }
   ],
   "source": [
    "!pip install xarray netCDF4"
   ]
  },
  {
   "cell_type": "code",
   "execution_count": 18,
   "id": "2c69c91a-69a6-40bb-b663-9b54fa8b7991",
   "metadata": {},
   "outputs": [],
   "source": [
    "import xarray as xr # reads and handles netcdf files with metadata\n",
    "import numpy as np   # module for numerical computing\n",
    "import pandas as pd # module for data manipulation and analysis\n",
    "import geopandas as gpd\n",
    "import matplotlib.pyplot as plt  #essential for plotting\n",
    "import cartopy.crs as ccrs  #important for  map projections\n",
    "\n",
    "import numpy as np\n",
    "import matplotlib.pyplot as plt\n",
    "import pandas as pd\n",
    "import xarray as xr\n",
    "import netCDF4"
   ]
  },
  {
   "cell_type": "markdown",
   "id": "c264e296-f684-47e3-bf0a-459fb360a55a",
   "metadata": {},
   "source": [
    "# Step:2  Load the data"
   ]
  },
  {
   "cell_type": "code",
   "execution_count": 19,
   "id": "64a7dd15-e24e-4a80-8d39-b0bf35fe8dfb",
   "metadata": {},
   "outputs": [
    {
     "ename": "ValueError",
     "evalue": "did not find a match in any of xarray's currently installed IO backends ['netcdf4', 'scipy']. Consider explicitly selecting one of the installed engines via the ``engine`` parameter, or installing additional IO dependencies, see:\nhttps://docs.xarray.dev/en/stable/getting-started-guide/installing.html\nhttps://docs.xarray.dev/en/stable/user-guide/io.html",
     "output_type": "error",
     "traceback": [
      "\u001b[1;31m---------------------------------------------------------------------------\u001b[0m",
      "\u001b[1;31mValueError\u001b[0m                                Traceback (most recent call last)",
      "Cell \u001b[1;32mIn[19], line 3\u001b[0m\n\u001b[0;32m      1\u001b[0m country \u001b[38;5;241m=\u001b[39m \u001b[38;5;124m\"\u001b[39m\u001b[38;5;124mSouth_Korea\u001b[39m\u001b[38;5;124m\"\u001b[39m  \u001b[38;5;66;03m# Put your country name\u001b[39;00m\n\u001b[0;32m      2\u001b[0m path \u001b[38;5;241m=\u001b[39m \u001b[38;5;124m\"\u001b[39m\u001b[38;5;124mC:/Users/user/Downloads/Met_data/Excel format/pcp_S_Korea_1970-2020_Monthly.csv\u001b[39m\u001b[38;5;124m\"\u001b[39m  \u001b[38;5;66;03m#location of file in your folder\u001b[39;00m\n\u001b[1;32m----> 3\u001b[0m data \u001b[38;5;241m=\u001b[39m xr\u001b[38;5;241m.\u001b[39mopen_dataset(path)\n",
      "File \u001b[1;32m~\\anaconda3\\Lib\\site-packages\\xarray\\backends\\api.py:547\u001b[0m, in \u001b[0;36mopen_dataset\u001b[1;34m(filename_or_obj, engine, chunks, cache, decode_cf, mask_and_scale, decode_times, decode_timedelta, use_cftime, concat_characters, decode_coords, drop_variables, inline_array, chunked_array_type, from_array_kwargs, backend_kwargs, **kwargs)\u001b[0m\n\u001b[0;32m    544\u001b[0m     kwargs\u001b[38;5;241m.\u001b[39mupdate(backend_kwargs)\n\u001b[0;32m    546\u001b[0m \u001b[38;5;28;01mif\u001b[39;00m engine \u001b[38;5;129;01mis\u001b[39;00m \u001b[38;5;28;01mNone\u001b[39;00m:\n\u001b[1;32m--> 547\u001b[0m     engine \u001b[38;5;241m=\u001b[39m plugins\u001b[38;5;241m.\u001b[39mguess_engine(filename_or_obj)\n\u001b[0;32m    549\u001b[0m \u001b[38;5;28;01mif\u001b[39;00m from_array_kwargs \u001b[38;5;129;01mis\u001b[39;00m \u001b[38;5;28;01mNone\u001b[39;00m:\n\u001b[0;32m    550\u001b[0m     from_array_kwargs \u001b[38;5;241m=\u001b[39m {}\n",
      "File \u001b[1;32m~\\anaconda3\\Lib\\site-packages\\xarray\\backends\\plugins.py:197\u001b[0m, in \u001b[0;36mguess_engine\u001b[1;34m(store_spec)\u001b[0m\n\u001b[0;32m    189\u001b[0m \u001b[38;5;28;01melse\u001b[39;00m:\n\u001b[0;32m    190\u001b[0m     error_msg \u001b[38;5;241m=\u001b[39m (\n\u001b[0;32m    191\u001b[0m         \u001b[38;5;124m\"\u001b[39m\u001b[38;5;124mfound the following matches with the input file in xarray\u001b[39m\u001b[38;5;124m'\u001b[39m\u001b[38;5;124ms IO \u001b[39m\u001b[38;5;124m\"\u001b[39m\n\u001b[0;32m    192\u001b[0m         \u001b[38;5;124mf\u001b[39m\u001b[38;5;124m\"\u001b[39m\u001b[38;5;124mbackends: \u001b[39m\u001b[38;5;132;01m{\u001b[39;00mcompatible_engines\u001b[38;5;132;01m}\u001b[39;00m\u001b[38;5;124m. But their dependencies may not be installed, see:\u001b[39m\u001b[38;5;130;01m\\n\u001b[39;00m\u001b[38;5;124m\"\u001b[39m\n\u001b[0;32m    193\u001b[0m         \u001b[38;5;124m\"\u001b[39m\u001b[38;5;124mhttps://docs.xarray.dev/en/stable/user-guide/io.html \u001b[39m\u001b[38;5;130;01m\\n\u001b[39;00m\u001b[38;5;124m\"\u001b[39m\n\u001b[0;32m    194\u001b[0m         \u001b[38;5;124m\"\u001b[39m\u001b[38;5;124mhttps://docs.xarray.dev/en/stable/getting-started-guide/installing.html\u001b[39m\u001b[38;5;124m\"\u001b[39m\n\u001b[0;32m    195\u001b[0m     )\n\u001b[1;32m--> 197\u001b[0m \u001b[38;5;28;01mraise\u001b[39;00m \u001b[38;5;167;01mValueError\u001b[39;00m(error_msg)\n",
      "\u001b[1;31mValueError\u001b[0m: did not find a match in any of xarray's currently installed IO backends ['netcdf4', 'scipy']. Consider explicitly selecting one of the installed engines via the ``engine`` parameter, or installing additional IO dependencies, see:\nhttps://docs.xarray.dev/en/stable/getting-started-guide/installing.html\nhttps://docs.xarray.dev/en/stable/user-guide/io.html"
     ]
    }
   ],
   "source": [
    "country = \"South_Korea\"  # Put your country name\n",
    "path = \"C:/Users/user/Downloads/Met_data/Excel format/pcp_S_Korea_1970-2020_Monthly.csv\"  #location of file in your folder\n",
    "data = xr.open_dataset(path) # 'data' named variable contains the dataset\n",
    "#Data #what all is there in the dataset"
   ]
  },
  {
   "cell_type": "code",
   "execution_count": 6,
   "id": "a2293736-27c4-4fd9-89ff-1bdc16ddadcd",
   "metadata": {},
   "outputs": [
    {
     "ename": "NameError",
     "evalue": "name 'data' is not defined",
     "output_type": "error",
     "traceback": [
      "\u001b[1;31m---------------------------------------------------------------------------\u001b[0m",
      "\u001b[1;31mNameError\u001b[0m                                 Traceback (most recent call last)",
      "Cell \u001b[1;32mIn[6], line 2\u001b[0m\n\u001b[0;32m      1\u001b[0m \u001b[38;5;66;03m#get the variable of interest from the main dataset\u001b[39;00m\n\u001b[1;32m----> 2\u001b[0m Pr \u001b[38;5;241m=\u001b[39m data[\u001b[38;5;124m'\u001b[39m\u001b[38;5;124mtp\u001b[39m\u001b[38;5;124m'\u001b[39m]\n\u001b[0;32m      3\u001b[0m Pr\u001b[38;5;241m=\u001b[39m Pr\u001b[38;5;241m*\u001b[39m\u001b[38;5;241m32.8767\u001b[39m  \u001b[38;5;66;03m#convert m/month to mm/day\u001b[39;00m\n\u001b[0;32m      4\u001b[0m \u001b[38;5;28mprint\u001b[39m(Pr\u001b[38;5;241m.\u001b[39mshape)\n",
      "\u001b[1;31mNameError\u001b[0m: name 'data' is not defined"
     ]
    }
   ],
   "source": [
    "#get the variable of interest from the main dataset\n",
    "Pr = data['tp']\n",
    "Pr= Pr*32.8767  #convert m/month to mm/day\n",
    "print(Pr.shape) #to check dimension of the variable"
   ]
  },
  {
   "cell_type": "markdown",
   "id": "30b0fd90-07ef-4e8e-9e74-42f08e1dce4a",
   "metadata": {},
   "source": [
    "# Step:3 To calc. Annual Climatological mean"
   ]
  },
  {
   "cell_type": "code",
   "execution_count": 29,
   "id": "33ca460f-9a97-46a2-8cb7-500a63bcd2aa",
   "metadata": {},
   "outputs": [
    {
     "ename": "ValueError",
     "evalue": "Dataset does not contain the dimensions: ['longitude', 'latitude']",
     "output_type": "error",
     "traceback": [
      "\u001b[1;31m---------------------------------------------------------------------------\u001b[0m",
      "\u001b[1;31mValueError\u001b[0m                                Traceback (most recent call last)",
      "Cell \u001b[1;32mIn[29], line 1\u001b[0m\n\u001b[1;32m----> 1\u001b[0m spatial_mean_pr \u001b[38;5;241m=\u001b[39m data\u001b[38;5;241m.\u001b[39mmean(dim\u001b[38;5;241m=\u001b[39m[\u001b[38;5;124m'\u001b[39m\u001b[38;5;124mlatitude\u001b[39m\u001b[38;5;124m'\u001b[39m,\u001b[38;5;124m'\u001b[39m\u001b[38;5;124mlongitude\u001b[39m\u001b[38;5;124m'\u001b[39m]) \u001b[38;5;66;03m#spatial mean\u001b[39;00m\n\u001b[0;32m      2\u001b[0m \u001b[38;5;28mprint\u001b[39m(spatial_mean_pr\u001b[38;5;241m.\u001b[39mshape)\n\u001b[0;32m      3\u001b[0m yearmean_pr \u001b[38;5;241m=\u001b[39m spatial_mean_pr\u001b[38;5;241m.\u001b[39mresample(time\u001b[38;5;241m=\u001b[39m\u001b[38;5;124m'\u001b[39m\u001b[38;5;124m1Y\u001b[39m\u001b[38;5;124m'\u001b[39m)\u001b[38;5;241m.\u001b[39mmean()  \u001b[38;5;66;03m#getting yearly mean values\u001b[39;00m\n",
      "File \u001b[1;32m~\\anaconda3\\Lib\\site-packages\\xarray\\core\\_aggregations.py:508\u001b[0m, in \u001b[0;36mDatasetAggregations.mean\u001b[1;34m(self, dim, skipna, keep_attrs, **kwargs)\u001b[0m\n\u001b[0;32m    426\u001b[0m \u001b[38;5;28;01mdef\u001b[39;00m \u001b[38;5;21mmean\u001b[39m(\n\u001b[0;32m    427\u001b[0m     \u001b[38;5;28mself\u001b[39m,\n\u001b[0;32m    428\u001b[0m     dim: Dims \u001b[38;5;241m=\u001b[39m \u001b[38;5;28;01mNone\u001b[39;00m,\n\u001b[1;32m   (...)\u001b[0m\n\u001b[0;32m    432\u001b[0m     \u001b[38;5;241m*\u001b[39m\u001b[38;5;241m*\u001b[39mkwargs: Any,\n\u001b[0;32m    433\u001b[0m ) \u001b[38;5;241m-\u001b[39m\u001b[38;5;241m>\u001b[39m Dataset:\n\u001b[0;32m    434\u001b[0m \u001b[38;5;250m    \u001b[39m\u001b[38;5;124;03m\"\"\"\u001b[39;00m\n\u001b[0;32m    435\u001b[0m \u001b[38;5;124;03m    Reduce this Dataset's data by applying ``mean`` along some dimension(s).\u001b[39;00m\n\u001b[0;32m    436\u001b[0m \n\u001b[1;32m   (...)\u001b[0m\n\u001b[0;32m    506\u001b[0m \u001b[38;5;124;03m        da       float64 nan\u001b[39;00m\n\u001b[0;32m    507\u001b[0m \u001b[38;5;124;03m    \"\"\"\u001b[39;00m\n\u001b[1;32m--> 508\u001b[0m     \u001b[38;5;28;01mreturn\u001b[39;00m \u001b[38;5;28mself\u001b[39m\u001b[38;5;241m.\u001b[39mreduce(\n\u001b[0;32m    509\u001b[0m         duck_array_ops\u001b[38;5;241m.\u001b[39mmean,\n\u001b[0;32m    510\u001b[0m         dim\u001b[38;5;241m=\u001b[39mdim,\n\u001b[0;32m    511\u001b[0m         skipna\u001b[38;5;241m=\u001b[39mskipna,\n\u001b[0;32m    512\u001b[0m         numeric_only\u001b[38;5;241m=\u001b[39m\u001b[38;5;28;01mTrue\u001b[39;00m,\n\u001b[0;32m    513\u001b[0m         keep_attrs\u001b[38;5;241m=\u001b[39mkeep_attrs,\n\u001b[0;32m    514\u001b[0m         \u001b[38;5;241m*\u001b[39m\u001b[38;5;241m*\u001b[39mkwargs,\n\u001b[0;32m    515\u001b[0m     )\n",
      "File \u001b[1;32m~\\anaconda3\\Lib\\site-packages\\xarray\\core\\dataset.py:5941\u001b[0m, in \u001b[0;36mDataset.reduce\u001b[1;34m(self, func, dim, keep_attrs, keepdims, numeric_only, **kwargs)\u001b[0m\n\u001b[0;32m   5939\u001b[0m missing_dimensions \u001b[38;5;241m=\u001b[39m [d \u001b[38;5;28;01mfor\u001b[39;00m d \u001b[38;5;129;01min\u001b[39;00m dims \u001b[38;5;28;01mif\u001b[39;00m d \u001b[38;5;129;01mnot\u001b[39;00m \u001b[38;5;129;01min\u001b[39;00m \u001b[38;5;28mself\u001b[39m\u001b[38;5;241m.\u001b[39mdims]\n\u001b[0;32m   5940\u001b[0m \u001b[38;5;28;01mif\u001b[39;00m missing_dimensions:\n\u001b[1;32m-> 5941\u001b[0m     \u001b[38;5;28;01mraise\u001b[39;00m \u001b[38;5;167;01mValueError\u001b[39;00m(\n\u001b[0;32m   5942\u001b[0m         \u001b[38;5;124mf\u001b[39m\u001b[38;5;124m\"\u001b[39m\u001b[38;5;124mDataset does not contain the dimensions: \u001b[39m\u001b[38;5;132;01m{\u001b[39;00mmissing_dimensions\u001b[38;5;132;01m}\u001b[39;00m\u001b[38;5;124m\"\u001b[39m\n\u001b[0;32m   5943\u001b[0m     )\n\u001b[0;32m   5945\u001b[0m \u001b[38;5;28;01mif\u001b[39;00m keep_attrs \u001b[38;5;129;01mis\u001b[39;00m \u001b[38;5;28;01mNone\u001b[39;00m:\n\u001b[0;32m   5946\u001b[0m     keep_attrs \u001b[38;5;241m=\u001b[39m _get_keep_attrs(default\u001b[38;5;241m=\u001b[39m\u001b[38;5;28;01mFalse\u001b[39;00m)\n",
      "\u001b[1;31mValueError\u001b[0m: Dataset does not contain the dimensions: ['longitude', 'latitude']"
     ]
    }
   ],
   "source": [
    "spatial_mean_pr = data.mean(dim=['latitude','longitude']) #spatial mean\n",
    "print(spatial_mean_pr.shape)\n",
    "yearmean_pr = spatial_mean_pr.resample(time='1Y').mean()  #getting yearly mean values\n",
    "print(yearmean_pr.shape) # 612/12 = 51 years from 1970-2022\n",
    "\n",
    "pr_clim = yearmean_pr.mean(skipna=True)  #pr_clim will give the annual climatological mean which is required\n",
    "print(f\"The  annual climatological mean of the precipitation over {country} is: {pr_clim:.4f} mm/day\") "
   ]
  },
  {
   "cell_type": "markdown",
   "id": "10871eb5-cd60-4415-be21-ee3e1b7b27d5",
   "metadata": {},
   "source": [
    "# Step:4 Prepare data for the Spatial distribution of annual rainfall climatology"
   ]
  },
  {
   "cell_type": "code",
   "execution_count": null,
   "id": "c9f78fd1-99ab-4d1b-bb98-198ec99b1df0",
   "metadata": {},
   "outputs": [],
   "source": [
    "pr_mean = Pr.mean(skipna=True,dim=\"time\") #use pr_mean for spatial plot\n",
    "print(pr_mean.shape)"
   ]
  },
  {
   "cell_type": "markdown",
   "id": "bae163c0-c284-42b4-ab16-09c49c72c88e",
   "metadata": {},
   "source": [
    "# Step:5 Plot the data"
   ]
  },
  {
   "cell_type": "code",
   "execution_count": null,
   "id": "bbd9cfa7-c7ce-463f-a4f6-abd1dd14f8a5",
   "metadata": {},
   "outputs": [],
   "source": [
    "shapefile = gpd.read_file('/Users/sakshi/Documents/workshop/OneDrive_1_17-06-2024/India_State_Boundary.shp') #set location of the shapefile from your laptop\n",
    "\n",
    "# Choose this file from all the avialable shape files from the folder:\n",
    "# Japan       -  jp.shp \n",
    "# Malaysia    -  MYS.adm0.shp\n",
    "# Indonesia   -  IDN.adm0.shp\n",
    "# South Korea -  kr.shp\n",
    "# UAE         -  ae.shp\n",
    "# Sri Lanka   -  lk.shp\n",
    "# Thailand    -  thailand-provinces.shp \n",
    "\n",
    "#plotting the figure now\n",
    "plt.figure(figsize=(12, 6))\n",
    "ax = plt.axes(projection=ccrs.PlateCarree())\n",
    "ax.coastlines()\n",
    "lon,lat = np.meshgrid(pr_mean[\"longitude\"],pr_mean[\"latitude\"])\n",
    "plt.contourf(lon,lat,pr_mean,transform=ccrs.PlateCarree(), cmap='jet_r')\n",
    "shapefile.boundary.plot(ax=ax, edgecolor='black', linewidth=1.5)\n",
    "plt.title(f'Spatial distribution of annual rainfall climatology (1970-2020) for {country} ',fontsize=10)\n",
    "plt.colorbar(label='precipitation(mm/day)')\n",
    "ax.gridlines(draw_labels=True)\n",
    "plt.savefig(f'Spatial_plot .jpg'),dpi=300) #save the figure"
   ]
  },
  {
   "cell_type": "code",
   "execution_count": null,
   "id": "0a94e0a0-0d67-46ba-980a-0969a77d8d3e",
   "metadata": {},
   "outputs": [],
   "source": []
  }
 ],
 "metadata": {
  "kernelspec": {
   "display_name": "Python 3 (ipykernel)",
   "language": "python",
   "name": "python3"
  },
  "language_info": {
   "codemirror_mode": {
    "name": "ipython",
    "version": 3
   },
   "file_extension": ".py",
   "mimetype": "text/x-python",
   "name": "python",
   "nbconvert_exporter": "python",
   "pygments_lexer": "ipython3",
   "version": "3.11.7"
  }
 },
 "nbformat": 4,
 "nbformat_minor": 5
}
